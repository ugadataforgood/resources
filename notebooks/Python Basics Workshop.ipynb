{
 "cells": [
  {
   "cell_type": "markdown",
   "metadata": {},
   "source": [
    "To run each statement, press the play button on each cell kernel. Additionally, you can go to cell in the toolbox and select run all or other command options."
   ]
  },
  {
   "cell_type": "code",
   "execution_count": 1,
   "metadata": {},
   "outputs": [
    {
     "name": "stdout",
     "output_type": "stream",
     "text": [
      "The Zen of Python, by Tim Peters\n",
      "\n",
      "Beautiful is better than ugly.\n",
      "Explicit is better than implicit.\n",
      "Simple is better than complex.\n",
      "Complex is better than complicated.\n",
      "Flat is better than nested.\n",
      "Sparse is better than dense.\n",
      "Readability counts.\n",
      "Special cases aren't special enough to break the rules.\n",
      "Although practicality beats purity.\n",
      "Errors should never pass silently.\n",
      "Unless explicitly silenced.\n",
      "In the face of ambiguity, refuse the temptation to guess.\n",
      "There should be one-- and preferably only one --obvious way to do it.\n",
      "Although that way may not be obvious at first unless you're Dutch.\n",
      "Now is better than never.\n",
      "Although never is often better than *right* now.\n",
      "If the implementation is hard to explain, it's a bad idea.\n",
      "If the implementation is easy to explain, it may be a good idea.\n",
      "Namespaces are one honking great idea -- let's do more of those!\n"
     ]
    }
   ],
   "source": [
    "import this"
   ]
  },
  {
   "cell_type": "code",
   "execution_count": 2,
   "metadata": {},
   "outputs": [
    {
     "name": "stdout",
     "output_type": "stream",
     "text": [
      "Hello, World!\n"
     ]
    }
   ],
   "source": [
    "#Python can print strings\n",
    "print(\"Hello, World!\")"
   ]
  },
  {
   "cell_type": "code",
   "execution_count": 4,
   "metadata": {},
   "outputs": [
    {
     "name": "stdout",
     "output_type": "stream",
     "text": [
      "Dear, Future \"Data Scientists,\" \n",
      " \n",
      "I'm excited for this semester and I hope you are too!\n"
     ]
    }
   ],
   "source": [
    "#Use of \\n and \\ for special characters\n",
    "print(\"Dear, Future \\\"Data Scientists,\\\" \\n \\nI'm excited for this semester and I hope you are too!\")"
   ]
  },
  {
   "cell_type": "code",
   "execution_count": 5,
   "metadata": {},
   "outputs": [
    {
     "data": {
      "text/plain": [
       "7"
      ]
     },
     "execution_count": 5,
     "metadata": {},
     "output_type": "execute_result"
    }
   ],
   "source": [
    "#Python can do other things too\n",
    "3+4"
   ]
  },
  {
   "cell_type": "code",
   "execution_count": 6,
   "metadata": {},
   "outputs": [
    {
     "data": {
      "text/plain": [
       "12"
      ]
     },
     "execution_count": 6,
     "metadata": {},
     "output_type": "execute_result"
    }
   ],
   "source": [
    "#We use the asterisk to multiply!\n",
    "3*4"
   ]
  },
  {
   "cell_type": "code",
   "execution_count": 7,
   "metadata": {},
   "outputs": [
    {
     "data": {
      "text/plain": [
       "19"
      ]
     },
     "execution_count": 7,
     "metadata": {},
     "output_type": "execute_result"
    }
   ],
   "source": [
    "#Python is groovy with PEMDAS\n",
    "4+3*5"
   ]
  },
  {
   "cell_type": "code",
   "execution_count": 8,
   "metadata": {},
   "outputs": [
    {
     "data": {
      "text/plain": [
       "8"
      ]
     },
     "execution_count": 8,
     "metadata": {},
     "output_type": "execute_result"
    }
   ],
   "source": [
    "#Python does exponents!\n",
    "2**3"
   ]
  },
  {
   "cell_type": "code",
   "execution_count": 9,
   "metadata": {},
   "outputs": [
    {
     "name": "stdout",
     "output_type": "stream",
     "text": [
      "your mom  is  10000  years old!\n"
     ]
    }
   ],
   "source": [
    "#You can store and maintain values using Python variables\n",
    "x1=\"your mom\"\n",
    "x2=10000\n",
    "print(x1,\" is \",x2,\" years old!\")"
   ]
  },
  {
   "cell_type": "code",
   "execution_count": 12,
   "metadata": {
    "collapsed": true
   },
   "outputs": [],
   "source": [
    "#However, variables can't start with numbers.. SYNTAX ERROR\n",
    "x2=3"
   ]
  },
  {
   "cell_type": "code",
   "execution_count": 13,
   "metadata": {},
   "outputs": [
    {
     "name": "stdout",
     "output_type": "stream",
     "text": [
      "6  is the same as  6  ... mind blowing!\n"
     ]
    }
   ],
   "source": [
    "#you can do operations with variables and print statements at the same time\n",
    "x=2\n",
    "y=3\n",
    "z=x*y\n",
    "print((x*y), \" is the same as \",z,\" ... mind blowing!\")"
   ]
  },
  {
   "cell_type": "code",
   "execution_count": 14,
   "metadata": {},
   "outputs": [
    {
     "name": "stdout",
     "output_type": "stream",
     "text": [
      "<class 'str'>\n",
      "<class 'int'>\n",
      "<class 'float'>\n"
     ]
    }
   ],
   "source": [
    "#Each variable has a different type assigned: integer, float, string, etc.\n",
    "print(type(\"hello\"))\n",
    "print(type(2))\n",
    "print(type(2.0))"
   ]
  },
  {
   "cell_type": "code",
   "execution_count": 15,
   "metadata": {},
   "outputs": [
    {
     "name": "stdout",
     "output_type": "stream",
     "text": [
      "7.0 <class 'float'>\n",
      "7 <class 'int'>\n",
      "7 <class 'str'>\n"
     ]
    }
   ],
   "source": [
    "#You can \"cast\" a variable to a different type (example: float-->integer)\n",
    "x=2.0\n",
    "y=3.5\n",
    "z=x*y\n",
    "print(z, type(z)) #z is currently 7.0 and a float\n",
    "z=int(z)\n",
    "print(z, type(z)) #int() changed z to an integer\n",
    "z=str(z)\n",
    "print(z, type(z)) #str(z) changed z to a string"
   ]
  },
  {
   "cell_type": "code",
   "execution_count": 16,
   "metadata": {},
   "outputs": [
    {
     "name": "stdout",
     "output_type": "stream",
     "text": [
      "I hate Georgia Tech!\n",
      "i hate georgia tech!\n",
      "I HATE GEORGIA TECH!\n"
     ]
    }
   ],
   "source": [
    "#you can make things upper case and lower case\n",
    "s=\"I hate Georgia Tech!\"\n",
    "print(s)\n",
    "print(s.lower())\n",
    "print(s.upper())"
   ]
  },
  {
   "cell_type": "code",
   "execution_count": 17,
   "metadata": {},
   "outputs": [
    {
     "name": "stdout",
     "output_type": "stream",
     "text": [
      "    python     .\n",
      "python .\n"
     ]
    }
   ],
   "source": [
    "#One handy tool is stripping ;) using strip()\n",
    "s=\"    python    \"\n",
    "print(s,\".\")\n",
    "s=s.strip()\n",
    "print(s,\".\")"
   ]
  },
  {
   "cell_type": "code",
   "execution_count": 18,
   "metadata": {},
   "outputs": [
    {
     "name": "stdout",
     "output_type": "stream",
     "text": [
      "53\n",
      "45\n"
     ]
    }
   ],
   "source": [
    "#You can also see the length of a string using len()\n",
    "s=\"The hurricane winds are really really strong.        \"\n",
    "print(len(s)) #s is 53 characters long, including white space\n",
    "print(len(s.strip())) #s is 45 characters long, without white space"
   ]
  },
  {
   "cell_type": "code",
   "execution_count": 19,
   "metadata": {},
   "outputs": [
    {
     "name": "stdout",
     "output_type": "stream",
     "text": [
      "True\n",
      "False\n",
      "True\n",
      "False\n"
     ]
    }
   ],
   "source": [
    "#you can do boolean/logic stuff\n",
    "x=2\n",
    "y=2\n",
    "print(x==y)\n",
    "y=3\n",
    "print(x==y)\n",
    "\n",
    "s1=\"hi\"\n",
    "s2=\"hi\"\n",
    "print(s1==s2)\n",
    "s2=\"hey\"\n",
    "print(s1==s2)"
   ]
  },
  {
   "cell_type": "code",
   "execution_count": 21,
   "metadata": {
    "scrolled": true
   },
   "outputs": [
    {
     "name": "stdout",
     "output_type": "stream",
     "text": [
      "True\n",
      "True\n",
      "True\n"
     ]
    }
   ],
   "source": [
    "#We can do comparisons of values\n",
    "x=2\n",
    "y=3\n",
    "print(x<y)\n",
    "logic=x<y\n",
    "print(logic)\n",
    "y=2\n",
    "print(x<=y)"
   ]
  },
  {
   "cell_type": "code",
   "execution_count": 23,
   "metadata": {},
   "outputs": [
    {
     "name": "stdout",
     "output_type": "stream",
     "text": [
      "[]\n",
      "['a', 'b', 'c']\n",
      "[]\n",
      "[1, 2, 3]\n",
      "3\n"
     ]
    }
   ],
   "source": [
    "#We can do lists using []. Lists are useful for iterating through things.\n",
    "x=list() #you can create a list using list()\n",
    "print(x)\n",
    "room=['a','b','c']\n",
    "print(room)\n",
    "x=[] #we can also create a list like this\n",
    "print(x)\n",
    "x=[1,2,3] #you can also create a list with elements in it\n",
    "print(x)\n",
    "print(len(x)) #this list has 3 elements"
   ]
  },
  {
   "cell_type": "code",
   "execution_count": 24,
   "metadata": {},
   "outputs": [
    {
     "name": "stdout",
     "output_type": "stream",
     "text": [
      "[1]\n",
      "1\n",
      "[1, 'this is perfectly legal']\n"
     ]
    }
   ],
   "source": [
    "#We can add things to lists using append()\n",
    "x=[]\n",
    "x.append(1) #we can add an element to the list\n",
    "print(x)\n",
    "print(len(x)) #the list now has 4 elements\n",
    "x.append('this is perfectly legal') #the list doesn't have to have only one type\n",
    "print(x)\n",
    "y=[1,6,9]\n",
    "x.append(y) #you can append lists to lists"
   ]
  },
  {
   "cell_type": "code",
   "execution_count": 30,
   "metadata": {},
   "outputs": [
    {
     "name": "stdout",
     "output_type": "stream",
     "text": [
      "[1, 2, 3]\n",
      "1\n",
      "3\n"
     ]
    }
   ],
   "source": [
    "#we can make lists of lists\n",
    "x=[[1,2,3],[1,3,2],[2,1,3],[2,3,1],[3,1,2],[3,2,1]]\n",
    "print(x[0])\n",
    "print(x[0][0])\n",
    "print(x[1][1])"
   ]
  },
  {
   "cell_type": "code",
   "execution_count": 31,
   "metadata": {},
   "outputs": [
    {
     "name": "stdout",
     "output_type": "stream",
     "text": [
      "[1, 2, 3, 4, 5, 6, 7, 8, 9]\n",
      "1\n",
      "2\n",
      "9\n"
     ]
    }
   ],
   "source": [
    "#As I mentioned before, lists are useful for iterating through things using indexes.\n",
    "y=[1,2,3,4,5,6,7,8,9] #let's take list y\n",
    "print(y)\n",
    "print(y[0]) #indices start at 0\n",
    "print(y[1]) #the 1 index is the second thing in the list\n",
    "print(y[-1]) #using the negative, we can return elements from end of a list"
   ]
  },
  {
   "cell_type": "code",
   "execution_count": 33,
   "metadata": {},
   "outputs": [
    {
     "data": {
      "text/plain": [
       "2"
      ]
     },
     "execution_count": 33,
     "metadata": {},
     "output_type": "execute_result"
    }
   ],
   "source": [
    "#You can do modular arithmetic\n",
    "27%3\n",
    "26%3"
   ]
  },
  {
   "cell_type": "code",
   "execution_count": 38,
   "metadata": {},
   "outputs": [
    {
     "name": "stdout",
     "output_type": "stream",
     "text": [
      "2\n",
      "4\n",
      "6\n",
      "8\n",
      "4\n"
     ]
    }
   ],
   "source": [
    "#As I mentioned before, lists are useful for iterating through things using indexes.\n",
    "y=[1,2,3,4,5,6,7,8,9] \n",
    "count_number_of_evens=0\n",
    "for element in y:\n",
    "    if element%2==0:\n",
    "        print(element)\n",
    "        count_number_of_evens+=1\n",
    "print(count_number_of_evens)"
   ]
  },
  {
   "cell_type": "code",
   "execution_count": 43,
   "metadata": {},
   "outputs": [
    {
     "name": "stdout",
     "output_type": "stream",
     "text": [
      "[1, 2, 3, 4, 5, 6, 7, 8, 9]\n",
      "[3, 4, 5]\n"
     ]
    }
   ],
   "source": [
    "#Lists are useful for slicing, which means taking a few elements from a list and doing stuff with them\n",
    "y=[1,2,3,4,5,6,7,8,9]\n",
    "print(y)\n",
    "#Slicing returns lists between the beginning and ending element listed, including the beginning, but not the ending element\n",
    "z=y[3:4]\n",
    "z=y[5:]\n",
    "z=y[:8] #this gives us all the elements between 1 and 3. This includes element 1, but does not include element 3 (the last element).\n",
    "z=y[2:5]\n",
    "print(z)"
   ]
  },
  {
   "cell_type": "code",
   "execution_count": 44,
   "metadata": {},
   "outputs": [
    {
     "data": {
      "text/plain": [
       "tuple"
      ]
     },
     "execution_count": 44,
     "metadata": {},
     "output_type": "execute_result"
    }
   ],
   "source": [
    "#tuples are another thing, but they are immutable. You can't add things to them.\n",
    "y=tuple() #creates an empty tuple\n",
    "#hello guys\n",
    "y=(1,2,3) #create tuples using parentheses\n",
    "type(y)"
   ]
  },
  {
   "cell_type": "code",
   "execution_count": 48,
   "metadata": {},
   "outputs": [
    {
     "name": "stdout",
     "output_type": "stream",
     "text": [
      "{2}\n"
     ]
    },
    {
     "data": {
      "text/plain": [
       "True"
      ]
     },
     "execution_count": 48,
     "metadata": {},
     "output_type": "execute_result"
    }
   ],
   "source": [
    "#sets are another thing that are used. They cannot contain two identical elements\n",
    "y=set() #creates an empty set\n",
    "y.add(2) #instead of append(), use add()\n",
    "print(y)\n",
    "a=[1,2,3,4,4,4]\n",
    "b=[1,2,3,4]\n",
    "set(a)==set(b)"
   ]
  },
  {
   "cell_type": "code",
   "execution_count": 49,
   "metadata": {},
   "outputs": [
    {
     "data": {
      "text/plain": [
       "{45, 67, 75, 78, 81, 85, 90, 92, 93}"
      ]
     },
     "execution_count": 49,
     "metadata": {},
     "output_type": "execute_result"
    }
   ],
   "source": [
    "#sets are useful if you want to see what are all the things that are in a list\n",
    "y=[90,92,93,93,93,93,85,45,45,67,78,75,81] #y is a list of all the grades in a class\n",
    "set(y) #these are the only grades really in the list--> showed this through a list"
   ]
  },
  {
   "cell_type": "code",
   "execution_count": 50,
   "metadata": {},
   "outputs": [
    {
     "name": "stdout",
     "output_type": "stream",
     "text": [
      "{'Aditya Krishnaswamy': 'President', 'Sonia Rao': 'Vice President', 'Sachi Shastri': 'Graphic Design'}\n",
      "dict_keys(['Aditya Krishnaswamy', 'Sonia Rao', 'Sachi Shastri'])\n",
      "dict_items([('Aditya Krishnaswamy', 'President'), ('Sonia Rao', 'Vice President'), ('Sachi Shastri', 'Graphic Design')])\n"
     ]
    }
   ],
   "source": [
    "#Dictionaries can be created with dict()\n",
    "d=dict()\n",
    "d[\"Aditya Krishnaswamy\"]=\"President\"\n",
    "d[\"Sonia Rao\"]=\"Vice President\"\n",
    "d[\"Sachi Shastri\"]=\"Graphic Design\"\n",
    "print(d)\n",
    "print(d.keys())\n",
    "print(d.items())"
   ]
  },
  {
   "cell_type": "code",
   "execution_count": 51,
   "metadata": {},
   "outputs": [
    {
     "name": "stdout",
     "output_type": "stream",
     "text": [
      "Student scored:  90\n",
      "   This student passed the class.\n",
      "Student scored:  92\n",
      "   This student passed the class.\n",
      "Student scored:  93\n",
      "   This student passed the class.\n",
      "Student scored:  93\n",
      "   This student passed the class.\n",
      "Student scored:  93\n",
      "   This student passed the class.\n",
      "Student scored:  93\n",
      "   This student passed the class.\n",
      "Student scored:  85\n",
      "   This student passed the class.\n",
      "Student scored:  45\n",
      "    This student failed the class.\n",
      "Student scored:  45\n",
      "    This student failed the class.\n",
      "Student scored:  67\n",
      "    This student failed the class.\n",
      "Student scored:  78\n",
      "   This student passed the class.\n",
      "Student scored:  75\n",
      "   This student passed the class.\n",
      "Student scored:  81\n",
      "   This student passed the class.\n",
      "Out of  13  students,  10  passed the class!\n",
      "76.92307692307693 % of students passed the class!\n"
     ]
    }
   ],
   "source": [
    "#Loops are super useful and essential! Basically, it allows you to do repetitive tasks with large amounts of information\n",
    "y=[90,92,93,93,93,93,85,45,45,67,78,75,81] #grades in a class\n",
    "number_of_people_who_passed=0\n",
    "for element in y:\n",
    "    print(\"Student scored: \",element)\n",
    "    if element>69:\n",
    "        print(\"   This student passed the class.\")\n",
    "        number_of_people_who_passed+=1\n",
    "    else:\n",
    "        print(\"    This student failed the class.\")\n",
    "print(\"Out of \",len(y),\" students, \",number_of_people_who_passed,\" passed the class!\")\n",
    "print(number_of_people_who_passed/len(y)*100,\"% of students passed the class!\")"
   ]
  },
  {
   "cell_type": "code",
   "execution_count": 58,
   "metadata": {},
   "outputs": [
    {
     "name": "stdout",
     "output_type": "stream",
     "text": [
      "10 11 12 13 14 "
     ]
    }
   ],
   "source": [
    "#while statements keep iterating until they don't pass!\n",
    "x=10\n",
    "while x<15:\n",
    "    print(x,end=\" \")\n",
    "    x=x+1 #for java users, you can't do x++"
   ]
  },
  {
   "cell_type": "code",
   "execution_count": 60,
   "metadata": {},
   "outputs": [
    {
     "name": "stdout",
     "output_type": "stream",
     "text": [
      "10\n",
      "11\n",
      "12\n",
      "13\n",
      "14\n",
      "15\n"
     ]
    }
   ],
   "source": [
    "#range() is super useful for creating a list of a series of numbers\n",
    "for i in range(10,16):\n",
    "    print(i)"
   ]
  },
  {
   "cell_type": "code",
   "execution_count": 64,
   "metadata": {},
   "outputs": [
    {
     "name": "stdout",
     "output_type": "stream",
     "text": [
      "[0, 1, 2, 3, 4, 5, 6, 7, 8, 9, 10]\n"
     ]
    }
   ],
   "source": [
    "#Use ranges to generate lists, if you want\n",
    "x=[i for i in range(11)]\n",
    "print(x)"
   ]
  },
  {
   "cell_type": "code",
   "execution_count": null,
   "metadata": {
    "collapsed": true
   },
   "outputs": [],
   "source": [
    "#You can use break statements to get out of a loop!\n",
    "while True:\n",
    "    print(\"Help! I'm stuck in an infinite loop!\")\n",
    "    break\n",
    "print(\"Whew, now I'm outside the loop!\")"
   ]
  }
 ],
 "metadata": {
  "kernelspec": {
   "display_name": "Python 3",
   "language": "python",
   "name": "python3"
  },
  "language_info": {
   "codemirror_mode": {
    "name": "ipython",
    "version": 3
   },
   "file_extension": ".py",
   "mimetype": "text/x-python",
   "name": "python",
   "nbconvert_exporter": "python",
   "pygments_lexer": "ipython3",
   "version": "3.6.3"
  }
 },
 "nbformat": 4,
 "nbformat_minor": 2
}
